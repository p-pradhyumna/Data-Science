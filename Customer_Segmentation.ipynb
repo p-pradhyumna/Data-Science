{
  "cells": [
    {
      "cell_type": "markdown",
      "metadata": {
        "id": "view-in-github",
        "colab_type": "text"
      },
      "source": [
        "<a href=\"https://colab.research.google.com/github/p-pradhyumna/Data-Science/blob/main/Customer_Segmentation.ipynb\" target=\"_parent\"><img src=\"https://colab.research.google.com/assets/colab-badge.svg\" alt=\"Open In Colab\"/></a>"
      ]
    },
    {
      "cell_type": "code",
      "execution_count": 1,
      "metadata": {
        "colab": {
          "base_uri": "https://localhost:8080/"
        },
        "id": "rJL98hmLCSPY",
        "outputId": "f9765ce4-cb7a-477f-f939-3a12fed2b834"
      },
      "outputs": [
        {
          "output_type": "stream",
          "name": "stdout",
          "text": [
            "Requirement already satisfied: pandas in /usr/local/lib/python3.11/dist-packages (2.2.2)\n",
            "Requirement already satisfied: numpy in /usr/local/lib/python3.11/dist-packages (1.26.4)\n",
            "Requirement already satisfied: matplotlib in /usr/local/lib/python3.11/dist-packages (3.10.0)\n",
            "Requirement already satisfied: scikit-learn in /usr/local/lib/python3.11/dist-packages (1.6.1)\n",
            "Requirement already satisfied: python-dateutil>=2.8.2 in /usr/local/lib/python3.11/dist-packages (from pandas) (2.8.2)\n",
            "Requirement already satisfied: pytz>=2020.1 in /usr/local/lib/python3.11/dist-packages (from pandas) (2024.2)\n",
            "Requirement already satisfied: tzdata>=2022.7 in /usr/local/lib/python3.11/dist-packages (from pandas) (2025.1)\n",
            "Requirement already satisfied: contourpy>=1.0.1 in /usr/local/lib/python3.11/dist-packages (from matplotlib) (1.3.1)\n",
            "Requirement already satisfied: cycler>=0.10 in /usr/local/lib/python3.11/dist-packages (from matplotlib) (0.12.1)\n",
            "Requirement already satisfied: fonttools>=4.22.0 in /usr/local/lib/python3.11/dist-packages (from matplotlib) (4.55.4)\n",
            "Requirement already satisfied: kiwisolver>=1.3.1 in /usr/local/lib/python3.11/dist-packages (from matplotlib) (1.4.8)\n",
            "Requirement already satisfied: packaging>=20.0 in /usr/local/lib/python3.11/dist-packages (from matplotlib) (24.2)\n",
            "Requirement already satisfied: pillow>=8 in /usr/local/lib/python3.11/dist-packages (from matplotlib) (11.1.0)\n",
            "Requirement already satisfied: pyparsing>=2.3.1 in /usr/local/lib/python3.11/dist-packages (from matplotlib) (3.2.1)\n",
            "Requirement already satisfied: scipy>=1.6.0 in /usr/local/lib/python3.11/dist-packages (from scikit-learn) (1.13.1)\n",
            "Requirement already satisfied: joblib>=1.2.0 in /usr/local/lib/python3.11/dist-packages (from scikit-learn) (1.4.2)\n",
            "Requirement already satisfied: threadpoolctl>=3.1.0 in /usr/local/lib/python3.11/dist-packages (from scikit-learn) (3.5.0)\n",
            "Requirement already satisfied: six>=1.5 in /usr/local/lib/python3.11/dist-packages (from python-dateutil>=2.8.2->pandas) (1.17.0)\n"
          ]
        }
      ],
      "source": [
        "pip install pandas numpy matplotlib scikit-learn\n"
      ]
    },
    {
      "cell_type": "code",
      "execution_count": 2,
      "metadata": {
        "colab": {
          "base_uri": "https://localhost:8080/"
        },
        "id": "oAs-vwKzCpMk",
        "outputId": "d4da5879-fc12-4955-d17e-196f7bf38c1a"
      },
      "outputs": [
        {
          "output_type": "stream",
          "name": "stdout",
          "text": [
            "Requirement already satisfied: seaborn in /usr/local/lib/python3.11/dist-packages (0.13.2)\n",
            "Requirement already satisfied: numpy!=1.24.0,>=1.20 in /usr/local/lib/python3.11/dist-packages (from seaborn) (1.26.4)\n",
            "Requirement already satisfied: pandas>=1.2 in /usr/local/lib/python3.11/dist-packages (from seaborn) (2.2.2)\n",
            "Requirement already satisfied: matplotlib!=3.6.1,>=3.4 in /usr/local/lib/python3.11/dist-packages (from seaborn) (3.10.0)\n",
            "Requirement already satisfied: contourpy>=1.0.1 in /usr/local/lib/python3.11/dist-packages (from matplotlib!=3.6.1,>=3.4->seaborn) (1.3.1)\n",
            "Requirement already satisfied: cycler>=0.10 in /usr/local/lib/python3.11/dist-packages (from matplotlib!=3.6.1,>=3.4->seaborn) (0.12.1)\n",
            "Requirement already satisfied: fonttools>=4.22.0 in /usr/local/lib/python3.11/dist-packages (from matplotlib!=3.6.1,>=3.4->seaborn) (4.55.4)\n",
            "Requirement already satisfied: kiwisolver>=1.3.1 in /usr/local/lib/python3.11/dist-packages (from matplotlib!=3.6.1,>=3.4->seaborn) (1.4.8)\n",
            "Requirement already satisfied: packaging>=20.0 in /usr/local/lib/python3.11/dist-packages (from matplotlib!=3.6.1,>=3.4->seaborn) (24.2)\n",
            "Requirement already satisfied: pillow>=8 in /usr/local/lib/python3.11/dist-packages (from matplotlib!=3.6.1,>=3.4->seaborn) (11.1.0)\n",
            "Requirement already satisfied: pyparsing>=2.3.1 in /usr/local/lib/python3.11/dist-packages (from matplotlib!=3.6.1,>=3.4->seaborn) (3.2.1)\n",
            "Requirement already satisfied: python-dateutil>=2.7 in /usr/local/lib/python3.11/dist-packages (from matplotlib!=3.6.1,>=3.4->seaborn) (2.8.2)\n",
            "Requirement already satisfied: pytz>=2020.1 in /usr/local/lib/python3.11/dist-packages (from pandas>=1.2->seaborn) (2024.2)\n",
            "Requirement already satisfied: tzdata>=2022.7 in /usr/local/lib/python3.11/dist-packages (from pandas>=1.2->seaborn) (2025.1)\n",
            "Requirement already satisfied: six>=1.5 in /usr/local/lib/python3.11/dist-packages (from python-dateutil>=2.7->matplotlib!=3.6.1,>=3.4->seaborn) (1.17.0)\n"
          ]
        }
      ],
      "source": [
        "pip install seaborn\n"
      ]
    },
    {
      "cell_type": "code",
      "execution_count": 3,
      "metadata": {
        "colab": {
          "base_uri": "https://localhost:8080/",
          "height": 144
        },
        "id": "C7XGKJf_XqzF",
        "outputId": "482c3bd3-8c69-4491-b422-bf97e35f6899"
      },
      "outputs": [
        {
          "output_type": "display_data",
          "data": {
            "text/plain": [
              "<IPython.core.display.HTML object>"
            ],
            "text/html": [
              "\n",
              "     <input type=\"file\" id=\"files-702f060c-5221-4dcd-8e85-36d0903cb26c\" name=\"files[]\" multiple disabled\n",
              "        style=\"border:none\" />\n",
              "     <output id=\"result-702f060c-5221-4dcd-8e85-36d0903cb26c\">\n",
              "      Upload widget is only available when the cell has been executed in the\n",
              "      current browser session. Please rerun this cell to enable.\n",
              "      </output>\n",
              "      <script>// Copyright 2017 Google LLC\n",
              "//\n",
              "// Licensed under the Apache License, Version 2.0 (the \"License\");\n",
              "// you may not use this file except in compliance with the License.\n",
              "// You may obtain a copy of the License at\n",
              "//\n",
              "//      http://www.apache.org/licenses/LICENSE-2.0\n",
              "//\n",
              "// Unless required by applicable law or agreed to in writing, software\n",
              "// distributed under the License is distributed on an \"AS IS\" BASIS,\n",
              "// WITHOUT WARRANTIES OR CONDITIONS OF ANY KIND, either express or implied.\n",
              "// See the License for the specific language governing permissions and\n",
              "// limitations under the License.\n",
              "\n",
              "/**\n",
              " * @fileoverview Helpers for google.colab Python module.\n",
              " */\n",
              "(function(scope) {\n",
              "function span(text, styleAttributes = {}) {\n",
              "  const element = document.createElement('span');\n",
              "  element.textContent = text;\n",
              "  for (const key of Object.keys(styleAttributes)) {\n",
              "    element.style[key] = styleAttributes[key];\n",
              "  }\n",
              "  return element;\n",
              "}\n",
              "\n",
              "// Max number of bytes which will be uploaded at a time.\n",
              "const MAX_PAYLOAD_SIZE = 100 * 1024;\n",
              "\n",
              "function _uploadFiles(inputId, outputId) {\n",
              "  const steps = uploadFilesStep(inputId, outputId);\n",
              "  const outputElement = document.getElementById(outputId);\n",
              "  // Cache steps on the outputElement to make it available for the next call\n",
              "  // to uploadFilesContinue from Python.\n",
              "  outputElement.steps = steps;\n",
              "\n",
              "  return _uploadFilesContinue(outputId);\n",
              "}\n",
              "\n",
              "// This is roughly an async generator (not supported in the browser yet),\n",
              "// where there are multiple asynchronous steps and the Python side is going\n",
              "// to poll for completion of each step.\n",
              "// This uses a Promise to block the python side on completion of each step,\n",
              "// then passes the result of the previous step as the input to the next step.\n",
              "function _uploadFilesContinue(outputId) {\n",
              "  const outputElement = document.getElementById(outputId);\n",
              "  const steps = outputElement.steps;\n",
              "\n",
              "  const next = steps.next(outputElement.lastPromiseValue);\n",
              "  return Promise.resolve(next.value.promise).then((value) => {\n",
              "    // Cache the last promise value to make it available to the next\n",
              "    // step of the generator.\n",
              "    outputElement.lastPromiseValue = value;\n",
              "    return next.value.response;\n",
              "  });\n",
              "}\n",
              "\n",
              "/**\n",
              " * Generator function which is called between each async step of the upload\n",
              " * process.\n",
              " * @param {string} inputId Element ID of the input file picker element.\n",
              " * @param {string} outputId Element ID of the output display.\n",
              " * @return {!Iterable<!Object>} Iterable of next steps.\n",
              " */\n",
              "function* uploadFilesStep(inputId, outputId) {\n",
              "  const inputElement = document.getElementById(inputId);\n",
              "  inputElement.disabled = false;\n",
              "\n",
              "  const outputElement = document.getElementById(outputId);\n",
              "  outputElement.innerHTML = '';\n",
              "\n",
              "  const pickedPromise = new Promise((resolve) => {\n",
              "    inputElement.addEventListener('change', (e) => {\n",
              "      resolve(e.target.files);\n",
              "    });\n",
              "  });\n",
              "\n",
              "  const cancel = document.createElement('button');\n",
              "  inputElement.parentElement.appendChild(cancel);\n",
              "  cancel.textContent = 'Cancel upload';\n",
              "  const cancelPromise = new Promise((resolve) => {\n",
              "    cancel.onclick = () => {\n",
              "      resolve(null);\n",
              "    };\n",
              "  });\n",
              "\n",
              "  // Wait for the user to pick the files.\n",
              "  const files = yield {\n",
              "    promise: Promise.race([pickedPromise, cancelPromise]),\n",
              "    response: {\n",
              "      action: 'starting',\n",
              "    }\n",
              "  };\n",
              "\n",
              "  cancel.remove();\n",
              "\n",
              "  // Disable the input element since further picks are not allowed.\n",
              "  inputElement.disabled = true;\n",
              "\n",
              "  if (!files) {\n",
              "    return {\n",
              "      response: {\n",
              "        action: 'complete',\n",
              "      }\n",
              "    };\n",
              "  }\n",
              "\n",
              "  for (const file of files) {\n",
              "    const li = document.createElement('li');\n",
              "    li.append(span(file.name, {fontWeight: 'bold'}));\n",
              "    li.append(span(\n",
              "        `(${file.type || 'n/a'}) - ${file.size} bytes, ` +\n",
              "        `last modified: ${\n",
              "            file.lastModifiedDate ? file.lastModifiedDate.toLocaleDateString() :\n",
              "                                    'n/a'} - `));\n",
              "    const percent = span('0% done');\n",
              "    li.appendChild(percent);\n",
              "\n",
              "    outputElement.appendChild(li);\n",
              "\n",
              "    const fileDataPromise = new Promise((resolve) => {\n",
              "      const reader = new FileReader();\n",
              "      reader.onload = (e) => {\n",
              "        resolve(e.target.result);\n",
              "      };\n",
              "      reader.readAsArrayBuffer(file);\n",
              "    });\n",
              "    // Wait for the data to be ready.\n",
              "    let fileData = yield {\n",
              "      promise: fileDataPromise,\n",
              "      response: {\n",
              "        action: 'continue',\n",
              "      }\n",
              "    };\n",
              "\n",
              "    // Use a chunked sending to avoid message size limits. See b/62115660.\n",
              "    let position = 0;\n",
              "    do {\n",
              "      const length = Math.min(fileData.byteLength - position, MAX_PAYLOAD_SIZE);\n",
              "      const chunk = new Uint8Array(fileData, position, length);\n",
              "      position += length;\n",
              "\n",
              "      const base64 = btoa(String.fromCharCode.apply(null, chunk));\n",
              "      yield {\n",
              "        response: {\n",
              "          action: 'append',\n",
              "          file: file.name,\n",
              "          data: base64,\n",
              "        },\n",
              "      };\n",
              "\n",
              "      let percentDone = fileData.byteLength === 0 ?\n",
              "          100 :\n",
              "          Math.round((position / fileData.byteLength) * 100);\n",
              "      percent.textContent = `${percentDone}% done`;\n",
              "\n",
              "    } while (position < fileData.byteLength);\n",
              "  }\n",
              "\n",
              "  // All done.\n",
              "  yield {\n",
              "    response: {\n",
              "      action: 'complete',\n",
              "    }\n",
              "  };\n",
              "}\n",
              "\n",
              "scope.google = scope.google || {};\n",
              "scope.google.colab = scope.google.colab || {};\n",
              "scope.google.colab._files = {\n",
              "  _uploadFiles,\n",
              "  _uploadFilesContinue,\n",
              "};\n",
              "})(self);\n",
              "</script> "
            ]
          },
          "metadata": {}
        },
        {
          "output_type": "stream",
          "name": "stdout",
          "text": [
            "Saving Transactions.csv to Transactions.csv\n",
            "Saving Products.csv to Products.csv\n",
            "Saving Customers.csv to Customers.csv\n"
          ]
        }
      ],
      "source": [
        "from google.colab import files\n",
        "uploaded = files.upload()  # Upload your CSV files\n"
      ]
    },
    {
      "cell_type": "code",
      "execution_count": 4,
      "metadata": {
        "id": "_u3U9b6oD3f7"
      },
      "outputs": [],
      "source": [
        "import pandas as pd\n",
        "from sklearn.preprocessing import StandardScaler, LabelEncoder\n",
        "\n",
        "# Load datasets\n",
        "customers = pd.read_csv('Customers.csv')\n",
        "transactions = pd.read_csv('Transactions.csv')\n",
        "\n",
        "# Merge datasets\n",
        "data = customers.merge(transactions, on='CustomerID', how='left')\n",
        "\n",
        "# Aggregate transaction data at the customer level\n",
        "customer_features = data.groupby('CustomerID').agg({\n",
        "    'Quantity': 'sum',\n",
        "    'TotalValue': 'sum',\n",
        "    'Price': 'mean',\n",
        "    'Region': 'first'\n",
        "}).reset_index()\n",
        "\n",
        "# Normalize numerical features\n",
        "scaler = StandardScaler()\n",
        "numerical_cols = ['Quantity', 'TotalValue', 'Price']\n",
        "customer_features[numerical_cols] = scaler.fit_transform(customer_features[numerical_cols])\n",
        "\n",
        "# Encode categorical features\n",
        "encoder = LabelEncoder()\n",
        "customer_features['Region'] = encoder.fit_transform(customer_features['Region'])\n"
      ]
    },
    {
      "cell_type": "code",
      "execution_count": 5,
      "metadata": {
        "colab": {
          "base_uri": "https://localhost:8080/"
        },
        "id": "D2QUTrb7EHgE",
        "outputId": "3b6bc23d-6edd-48b1-86a6-24591b188684"
      },
      "outputs": [
        {
          "output_type": "stream",
          "name": "stdout",
          "text": [
            "CustomerID    0\n",
            "Quantity      0\n",
            "TotalValue    0\n",
            "Price         1\n",
            "Region        0\n",
            "dtype: int64\n"
          ]
        }
      ],
      "source": [
        "print(customer_features.isnull().sum())\n"
      ]
    },
    {
      "cell_type": "code",
      "execution_count": 6,
      "metadata": {
        "id": "HWjikyphEQz0"
      },
      "outputs": [],
      "source": [
        "customer_features.fillna(0, inplace=True)\n"
      ]
    },
    {
      "cell_type": "code",
      "execution_count": 7,
      "metadata": {
        "colab": {
          "base_uri": "https://localhost:8080/"
        },
        "id": "YZpBgwOCES2y",
        "outputId": "9dde6311-0088-49d7-eb91-7c2a4acfc655"
      },
      "outputs": [
        {
          "output_type": "stream",
          "name": "stdout",
          "text": [
            "0\n"
          ]
        }
      ],
      "source": [
        "print(customer_features.isnull().sum().sum())  # Should return 0\n"
      ]
    },
    {
      "cell_type": "code",
      "execution_count": 8,
      "metadata": {
        "colab": {
          "base_uri": "https://localhost:8080/"
        },
        "id": "_0Dii6HYEVNE",
        "outputId": "c3fecfcf-2c2c-4015-a21d-70115f0d6e88"
      },
      "outputs": [
        {
          "output_type": "stream",
          "name": "stdout",
          "text": [
            "Number of Clusters: 2, DB Index: 1.2679312079507368\n",
            "Number of Clusters: 3, DB Index: 0.9986545962936267\n",
            "Number of Clusters: 4, DB Index: 0.9715628413380206\n",
            "Number of Clusters: 5, DB Index: 0.8090554103495144\n",
            "Number of Clusters: 6, DB Index: 0.6398847546634334\n",
            "Number of Clusters: 7, DB Index: 0.5395261245311725\n",
            "Number of Clusters: 8, DB Index: 0.4555346954555644\n",
            "Number of Clusters: 9, DB Index: 0.40461746658166864\n",
            "Number of Clusters: 10, DB Index: 0.3474024589113427\n"
          ]
        }
      ],
      "source": [
        "from sklearn.cluster import KMeans\n",
        "from sklearn.metrics import davies_bouldin_score\n",
        "\n",
        "# Store clustering results and DBI scores\n",
        "db_scores = []\n",
        "k_values = range(2, 11)\n",
        "\n",
        "# Perform clustering for k=2 to k=10\n",
        "for k in k_values:\n",
        "    kmeans = KMeans(n_clusters=k, random_state=42)\n",
        "    clusters = kmeans.fit_predict(customer_features.drop('CustomerID', axis=1))\n",
        "    customer_features[f'Cluster_k{k}'] = clusters\n",
        "\n",
        "    # Compute Davies-Bouldin Index\n",
        "    db_score = davies_bouldin_score(customer_features.drop('CustomerID', axis=1), clusters)\n",
        "    db_scores.append(db_score)\n",
        "    print(f\"Number of Clusters: {k}, DB Index: {db_score}\")\n"
      ]
    },
    {
      "cell_type": "code",
      "execution_count": 9,
      "metadata": {
        "colab": {
          "base_uri": "https://localhost:8080/",
          "height": 564
        },
        "id": "F5OfjYpoEXrK",
        "outputId": "e6e29c45-8202-4856-9712-efd2ac6fd2b2"
      },
      "outputs": [
        {
          "output_type": "display_data",
          "data": {
            "text/plain": [
              "<Figure size 1000x600 with 1 Axes>"
            ],
            "image/png": "[encoded data removed]"
          },
          "metadata": {}
        }
      ],
      "source": [
        "import matplotlib.pyplot as plt\n",
        "\n",
        "# Plot DBI scores\n",
        "plt.figure(figsize=(10, 6))\n",
        "plt.plot(range(2, 11), db_scores, marker='o', linestyle='-', color='b')\n",
        "plt.title('Davies-Bouldin Index for Different Number of Clusters')\n",
        "plt.xlabel('Number of Clusters (k)')\n",
        "plt.ylabel('Davies-Bouldin Index')\n",
        "plt.grid()\n",
        "plt.show()\n"
      ]
    },
    {
      "cell_type": "code",
      "execution_count": 11,
      "metadata": {
        "colab": {
          "base_uri": "https://localhost:8080/"
        },
        "id": "t5p0J_zgEfjP",
        "outputId": "acad509f-07b5-4177-9ca5-90a8cd5a537a"
      },
      "outputs": [
        {
          "output_type": "stream",
          "name": "stdout",
          "text": [
            "Clustering results saved to 'Customer_Segmentation.csv'\n"
          ]
        }
      ],
      "source": [
        "# Assign clusters based on optimal k\n",
        "optimal_k = 3  # Replace this with the best k from your DBI evaluation\n",
        "customer_features['Final_Cluster'] = customer_features[f'Cluster_k{optimal_k}']\n",
        "\n",
        "# Save clustering results to CSV\n",
        "customer_features[['CustomerID', 'Final_Cluster']].to_csv('Customer_Segmentation.csv', index=False)\n",
        "print(\"Clustering results saved to 'Customer_Segmentation.csv'\")\n"
      ]
    },
    {
      "cell_type": "code",
      "execution_count": 12,
      "metadata": {
        "colab": {
          "base_uri": "https://localhost:8080/",
          "height": 718
        },
        "id": "lq0YbrrCEiKg",
        "outputId": "f81d70d2-8838-4577-a988-8cc9be76285a"
      },
      "outputs": [
        {
          "output_type": "display_data",
          "data": {
            "text/plain": [
              "<Figure size 1000x800 with 2 Axes>"
            ],
            "image/png": "[encoded data removed]"
          },
          "metadata": {}
        }
      ],
      "source": [
        "from sklearn.decomposition import PCA\n",
        "\n",
        "# Reduce to 2 dimensions using PCA\n",
        "pca = PCA(n_components=2)\n",
        "reduced_data = pca.fit_transform(customer_features.drop(['CustomerID', 'Final_Cluster'], axis=1))\n",
        "\n",
        "# Plot the clusters\n",
        "import matplotlib.pyplot as plt\n",
        "\n",
        "plt.figure(figsize=(10, 8))\n",
        "plt.scatter(reduced_data[:, 0], reduced_data[:, 1], c=customer_features['Final_Cluster'], cmap='viridis', s=50)\n",
        "plt.title(f'Customer Clusters (k={optimal_k})')\n",
        "plt.xlabel('PCA Component 1')\n",
        "plt.ylabel('PCA Component 2')\n",
        "plt.colorbar(label='Cluster')\n",
        "plt.grid()\n",
        "plt.show()\n"
      ]
    },
    {
      "cell_type": "code",
      "execution_count": 13,
      "metadata": {
        "colab": {
          "base_uri": "https://localhost:8080/"
        },
        "id": "J5WAIBsAE_O9",
        "outputId": "040c3ab9-2469-4418-8a65-423dfefc39da"
      },
      "outputs": [
        {
          "output_type": "stream",
          "name": "stdout",
          "text": [
            "  CustomerID  Quantity  TotalValue     Price  Region  Cluster_k2  Cluster_k3  \\\n",
            "0      C0001 -0.110735   -0.051884  0.094670       3           1           2   \n",
            "1      C0002 -0.434049   -0.862714 -0.904016       0           1           1   \n",
            "2      C0003  0.212579   -0.393842 -1.094109       3           1           1   \n",
            "3      C0004  1.667493    1.035375 -0.447702       3           0           2   \n",
            "4      C0005 -0.919021   -0.769499  0.285581       0           1           1   \n",
            "\n",
            "   Cluster_k4  Cluster_k5  Cluster_k6  Cluster_k7  Cluster_k8  Cluster_k9  \\\n",
            "0           1           1           3           1           1           1   \n",
            "1           2           2           1           3           4           3   \n",
            "2           1           1           3           1           1           1   \n",
            "3           3           4           2           6           3           8   \n",
            "4           2           2           1           3           4           3   \n",
            "\n",
            "   Cluster_k10  Final_Cluster  \n",
            "0            5              2  \n",
            "1            2              1  \n",
            "2            5              1  \n",
            "3            8              2  \n",
            "4            2              1  \n",
            "CustomerID        object\n",
            "Quantity         float64\n",
            "TotalValue       float64\n",
            "Price            float64\n",
            "Region             int64\n",
            "Cluster_k2         int32\n",
            "Cluster_k3         int32\n",
            "Cluster_k4         int32\n",
            "Cluster_k5         int32\n",
            "Cluster_k6         int32\n",
            "Cluster_k7         int32\n",
            "Cluster_k8         int32\n",
            "Cluster_k9         int32\n",
            "Cluster_k10        int32\n",
            "Final_Cluster      int32\n",
            "dtype: object\n"
          ]
        }
      ],
      "source": [
        "print(customer_features.head())  # Inspect the first few rows\n",
        "print(customer_features.dtypes)  # Check data types of each column\n"
      ]
    },
    {
      "cell_type": "code",
      "execution_count": 14,
      "metadata": {
        "colab": {
          "base_uri": "https://localhost:8080/"
        },
        "id": "tILVZ50OFGQ_",
        "outputId": "e2805ae2-03d5-4a48-a8cd-b619b3f70b8d"
      },
      "outputs": [
        {
          "output_type": "stream",
          "name": "stdout",
          "text": [
            "               Quantity  TotalValue     Price    Region  Cluster_k2  \\\n",
            "Final_Cluster                                                         \n",
            "0              0.960820    1.063037  0.282033  0.485714    0.028571   \n",
            "1             -0.595706   -0.647868 -0.189006  1.495868    1.000000   \n",
            "2              0.873904    0.936040  0.295421  2.750000    0.159091   \n",
            "\n",
            "               Cluster_k3  Cluster_k4  Cluster_k5  Cluster_k6  Cluster_k7  \\\n",
            "Final_Cluster                                                               \n",
            "0                     0.0    0.057143    1.600000    2.200000    2.685714   \n",
            "1                     1.0    1.520661    1.520661    2.785124    2.330579   \n",
            "2                     2.0    2.954545    3.931818    2.022727    4.522727   \n",
            "\n",
            "               Cluster_k8  Cluster_k9  Cluster_k10  Final_Cluster  \n",
            "Final_Cluster                                                      \n",
            "0                1.171429    3.200000     3.114286            0.0  \n",
            "1                2.884298    3.223140     3.694215            1.0  \n",
            "2                5.522727    4.636364     5.659091            2.0  \n"
          ]
        }
      ],
      "source": [
        "# Exclude non-numeric columns\n",
        "numeric_features = customer_features.select_dtypes(include=['number'])\n",
        "\n",
        "# Group by 'Final_Cluster' and calculate the mean\n",
        "cluster_summary = numeric_features.groupby(customer_features['Final_Cluster']).mean()\n",
        "print(cluster_summary)\n"
      ]
    },
    {
      "cell_type": "code",
      "execution_count": 15,
      "metadata": {
        "colab": {
          "base_uri": "https://localhost:8080/"
        },
        "id": "zKEIl3LAFLZS",
        "outputId": "624d1552-22e2-46a5-de65-2aef11b80d65"
      },
      "outputs": [
        {
          "output_type": "stream",
          "name": "stdout",
          "text": [
            "Column: CustomerID\n",
            "['C0001' 'C0002' 'C0003' 'C0004' 'C0005']\n"
          ]
        }
      ],
      "source": [
        "# Check for string values in numerical columns\n",
        "for col in customer_features.columns:\n",
        "    if customer_features[col].dtype == 'object':\n",
        "        print(f\"Column: {col}\")\n",
        "        print(customer_features[col].unique()[:5])  # Show unique values\n"
      ]
    },
    {
      "cell_type": "code",
      "execution_count": 16,
      "metadata": {
        "colab": {
          "base_uri": "https://localhost:8080/"
        },
        "id": "qWU5Hq0sFSdk",
        "outputId": "c3ad162f-8740-4528-bc4f-7bad13135453"
      },
      "outputs": [
        {
          "output_type": "stream",
          "name": "stdout",
          "text": [
            "Cluster Summary:\n",
            "               Quantity  TotalValue     Price    Region  Cluster_k2  \\\n",
            "Final_Cluster                                                         \n",
            "0              0.960820    1.063037  0.282033  0.485714    0.028571   \n",
            "1             -0.595706   -0.647868 -0.189006  1.495868    1.000000   \n",
            "2              0.873904    0.936040  0.295421  2.750000    0.159091   \n",
            "\n",
            "               Cluster_k3  Cluster_k4  Cluster_k5  Cluster_k6  Cluster_k7  \\\n",
            "Final_Cluster                                                               \n",
            "0                     0.0    0.057143    1.600000    2.200000    2.685714   \n",
            "1                     1.0    1.520661    1.520661    2.785124    2.330579   \n",
            "2                     2.0    2.954545    3.931818    2.022727    4.522727   \n",
            "\n",
            "               Cluster_k8  Cluster_k9  Cluster_k10  \n",
            "Final_Cluster                                       \n",
            "0                1.171429    3.200000     3.114286  \n",
            "1                2.884298    3.223140     3.694215  \n",
            "2                5.522727    4.636364     5.659091  \n"
          ]
        }
      ],
      "source": [
        "# Exclude non-numeric columns for aggregation\n",
        "cluster_summary = customer_features.drop(['CustomerID'], axis=1).groupby('Final_Cluster').mean()\n",
        "\n",
        "# Display the cluster summary\n",
        "print(\"Cluster Summary:\")\n",
        "print(cluster_summary)\n"
      ]
    },
    {
      "cell_type": "code",
      "execution_count": 17,
      "metadata": {
        "colab": {
          "base_uri": "https://localhost:8080/"
        },
        "id": "O0yj9pkkFcNm",
        "outputId": "9a27e6f6-51ca-4fdd-91b7-290f02ba500c"
      },
      "outputs": [
        {
          "output_type": "stream",
          "name": "stdout",
          "text": [
            "Cluster Sizes:\n",
            "Final_Cluster\n",
            "1    121\n",
            "2     44\n",
            "0     35\n",
            "Name: count, dtype: int64\n"
          ]
        }
      ],
      "source": [
        "print(\"Cluster Sizes:\")\n",
        "print(customer_features['Final_Cluster'].value_counts())\n"
      ]
    },
    {
      "cell_type": "code",
      "execution_count": 19,
      "metadata": {
        "colab": {
          "base_uri": "https://localhost:8080/"
        },
        "id": "Flq142bcFi5r",
        "outputId": "e407c48f-cc19-469b-81cd-7657f59c5e8a"
      },
      "outputs": [
        {
          "output_type": "stream",
          "name": "stdout",
          "text": [
            "Clustering results saved to 'Customer_Segmentation.csv'\n"
          ]
        }
      ],
      "source": [
        "# Save the final clustering results\n",
        "customer_features[['CustomerID', 'Final_Cluster']].to_csv('Customer_Segmentation.csv', index=False)\n",
        "print(\"Clustering results saved to 'Customer_Segmentation.csv'\")\n"
      ]
    },
    {
      "cell_type": "code",
      "execution_count": null,
      "metadata": {
        "id": "DX79PdMvFqW8"
      },
      "outputs": [],
      "source": []
    }
  ],
  "metadata": {
    "colab": {
      "provenance": [],
      "include_colab_link": true
    },
    "kernelspec": {
      "display_name": "Python 3",
      "name": "python3"
    },
    "language_info": {
      "codemirror_mode": {
        "name": "ipython",
        "version": 3
      },
      "file_extension": ".py",
      "mimetype": "text/x-python",
      "name": "python",
      "nbconvert_exporter": "python",
      "pygments_lexer": "ipython3",
      "version": "3.12.4"
    }
  },
  "nbformat": 4,
  "nbformat_minor": 0
}